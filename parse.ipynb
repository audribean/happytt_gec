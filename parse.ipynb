{
 "cells": [
  {
   "cell_type": "code",
   "execution_count": 27,
   "metadata": {},
   "outputs": [],
   "source": [
    "import pandas as pd\n",
    "import re"
   ]
  },
  {
   "cell_type": "code",
   "execution_count": 28,
   "metadata": {},
   "outputs": [],
   "source": [
    "# Creating Participant dataframe\n",
    "# Removing unecessary rows/cols and labelling group \n",
    "\n",
    "r_df = pd.read_csv('data.csv')\n",
    "keep_cols = ['Code', 'aoa_eng', 'L1', 'par_chi_can_age']\n",
    "r_df = r_df.loc[:, keep_cols]\n",
    "r_df = r_df[~r_df['Code'].isin([797, 702])]\n",
    "r_df['Group'] = ['Monolingual', 'Early', 'Late', 'Early', 'Late', 'Early', 'Late', 'Late']\n",
    "r_df = r_df.sort_values(by='Group').reset_index(drop=True)\n",
    "#r_df"
   ]
  },
  {
   "cell_type": "code",
   "execution_count": 29,
   "metadata": {},
   "outputs": [
    {
     "data": {
      "text/html": [
       "<div>\n",
       "<style scoped>\n",
       "    .dataframe tbody tr th:only-of-type {\n",
       "        vertical-align: middle;\n",
       "    }\n",
       "\n",
       "    .dataframe tbody tr th {\n",
       "        vertical-align: top;\n",
       "    }\n",
       "\n",
       "    .dataframe thead th {\n",
       "        text-align: right;\n",
       "    }\n",
       "</style>\n",
       "<table border=\"1\" class=\"dataframe\">\n",
       "  <thead>\n",
       "    <tr style=\"text-align: right;\">\n",
       "      <th></th>\n",
       "      <th>ADJ</th>\n",
       "      <th>ADJ:FORM</th>\n",
       "      <th>ADV</th>\n",
       "      <th>CONJ</th>\n",
       "      <th>CONTR</th>\n",
       "      <th>DET</th>\n",
       "      <th>MORPH</th>\n",
       "      <th>NOUN</th>\n",
       "      <th>NOUN:INFL</th>\n",
       "      <th>NOUN:NUM</th>\n",
       "      <th>NOUN:POSS</th>\n",
       "      <th>ORTH</th>\n",
       "      <th>OTHER</th>\n",
       "      <th>PART</th>\n",
       "      <th>PREP</th>\n",
       "      <th>PRON</th>\n",
       "      <th>PUNCT</th>\n",
       "      <th>SPELL</th>\n",
       "      <th>UNK</th>\n",
       "      <th>VERB</th>\n",
       "      <th>VERB:FORM</th>\n",
       "      <th>VERB:INFL</th>\n",
       "      <th>VERB:SVA</th>\n",
       "      <th>VERB:TENSE</th>\n",
       "      <th>WO</th>\n",
       "    </tr>\n",
       "  </thead>\n",
       "  <tbody>\n",
       "  </tbody>\n",
       "</table>\n",
       "</div>"
      ],
      "text/plain": [
       "Empty DataFrame\n",
       "Columns: [ADJ, ADJ:FORM, ADV, CONJ, CONTR, DET, MORPH, NOUN, NOUN:INFL, NOUN:NUM, NOUN:POSS, ORTH, OTHER, PART, PREP, PRON, PUNCT, SPELL, UNK, VERB, VERB:FORM, VERB:INFL, VERB:SVA, VERB:TENSE, WO]\n",
       "Index: []"
      ]
     },
     "execution_count": 29,
     "metadata": {},
     "output_type": "execute_result"
    }
   ],
   "source": [
    "# Initialize error table for errant annotations\n",
    "error_types = {\n",
    "    # 'code': [],\n",
    "    # 'group': [],\n",
    "    'ADJ': [],\n",
    "    'ADJ:FORM': [],\n",
    "    'ADV': [],\n",
    "    'CONJ': [],\n",
    "    'CONTR': [],\n",
    "    'DET': [],\n",
    "    'MORPH': [],\n",
    "    'NOUN': [],\n",
    "    'NOUN:INFL': [],\n",
    "    'NOUN:NUM': [],\n",
    "    'NOUN:POSS': [],\n",
    "    'ORTH': [],\n",
    "    'OTHER': [],\n",
    "    'PART': [],\n",
    "    'PREP': [],\n",
    "    'PRON': [],\n",
    "    'PUNCT': [],\n",
    "    'SPELL': [],\n",
    "    'UNK': [],\n",
    "    'VERB': [],\n",
    "    'VERB:FORM': [],\n",
    "    'VERB:INFL': [],\n",
    "    'VERB:SVA': [],\n",
    "    'VERB:TENSE': [],\n",
    "    'WO': []\n",
    "}\n",
    "\n",
    "err_df = pd.DataFrame(error_types)\n",
    "# integer vals only\n",
    "err_df = err_df.astype(int)\n",
    "err_df"
   ]
  },
  {
   "cell_type": "code",
   "execution_count": 30,
   "metadata": {},
   "outputs": [],
   "source": [
    "# Merging errant table and participant table\n",
    "\n",
    "merged_df = pd.concat([r_df, err_df],axis=0, ignore_index=True).fillna(0)\n",
    "numerical_cols = merged_df.select_dtypes(include=['number'])\n",
    "merged_df[numerical_cols.columns] = numerical_cols.astype(int)\n",
    "#merged_df"
   ]
  },
  {
   "cell_type": "code",
   "execution_count": 31,
   "metadata": {},
   "outputs": [],
   "source": [
    "# # create rows in the error table according to which participants we use\n",
    "# for code_num in df['code']:\n",
    "#     if not (err_df['code'] == code_num).any():\n",
    "#         new_row = {'code': code_num}\n",
    "#         cor_group = r_df.loc[df['Code'] == code_num, 'group'].values[0]\n",
    "#         new_row['group'] = cor_group\n",
    "#         for column in err_df.columns[2:]:\n",
    "#             new_row[column] = 0\n",
    "#         err_df = pd.concat([err_df, pd.DataFrame([new_row])], ignore_index=True)\n",
    "# err_df"
   ]
  },
  {
   "cell_type": "code",
   "execution_count": 32,
   "metadata": {},
   "outputs": [],
   "source": [
    "# for each participant code, assign error values to that code\n",
    "for code_num in merged_df['Code']:\n",
    "    # change input file for model vs manual annotations\n",
    "    #input_file = f'm2/{code_num}.txt'\n",
    "    input_file = f'hand-cor/{code_num}.txt'\n",
    "    row_index = merged_df.index[merged_df['Code'] == code_num]\n",
    "    with open(input_file, 'r') as i_file:\n",
    "            for line in i_file:\n",
    "                if line[0] == 'A':\n",
    "                    # regex to find error type\n",
    "                    pattern = r'\\|\\|\\|([A-Z]:)?([^|]+?)\\|\\|\\|'\n",
    "                    match = re.search(pattern, line)\n",
    "\n",
    "                    # extract the matched text\n",
    "                    if match:\n",
    "                        captured_text = match.group(2)\n",
    "                        #print(captured_text)\n",
    "                        if captured_text == 'noop':\n",
    "                            pass\n",
    "                        elif captured_text == 'REQUIRED':\n",
    "                             print(input_file, line)\n",
    "                        else:\n",
    "                            merged_df.loc[row_index, captured_text] += 1\n",
    "                            #print(captured_text)\n",
    "                    else:\n",
    "                        print(\"No match found\")\n",
    "                else:\n",
    "                    pass\n",
    "merged_df = merged_df.sort_values(by='Group').reset_index(drop=True)\n",
    "pd.set_option(\"display.max_columns\", None) \n",
    "# change for model vs manual annotations\n",
    "# merged_df.to_excel('results.excel')\n",
    "merged_df.to_csv('true_results.csv')\n",
    "#merged_df"
   ]
  }
 ],
 "metadata": {
  "kernelspec": {
   "display_name": "Python 3",
   "language": "python",
   "name": "python3"
  },
  "language_info": {
   "codemirror_mode": {
    "name": "ipython",
    "version": 3
   },
   "file_extension": ".py",
   "mimetype": "text/x-python",
   "name": "python",
   "nbconvert_exporter": "python",
   "pygments_lexer": "ipython3",
   "version": "3.12.2"
  }
 },
 "nbformat": 4,
 "nbformat_minor": 2
}
